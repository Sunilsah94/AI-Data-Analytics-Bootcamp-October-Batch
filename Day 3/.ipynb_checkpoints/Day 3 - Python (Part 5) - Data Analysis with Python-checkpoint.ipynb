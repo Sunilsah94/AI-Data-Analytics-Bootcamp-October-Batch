{
 "cells": [
  {
   "cell_type": "markdown",
   "id": "6360f670-cd32-417c-be26-8438195b82df",
   "metadata": {},
   "source": [
    "<h1 style=\" background-color: #002147; color: White; padding: 30px; text-align:center\"> Python Programming Language (Part 5) </h1>"
   ]
  },
  {
   "cell_type": "markdown",
   "id": "19e9ec83-cf6b-4000-aa3b-4b2194c2bbf1",
   "metadata": {},
   "source": [
    "<div style=\"background-color: lightgreen; color: black; padding: 10px;\">\n",
    "    <h1>Data Analysis with Python\n",
    "</h1> </div>"
   ]
  },
  {
   "cell_type": "markdown",
   "id": "155e8ec7-547b-41f4-b6f6-6e6e719c198c",
   "metadata": {},
   "source": [
    "<div style=\"background-color: grey; color: black; padding: 10px;\">\n",
    "    <h4><b>AGENDA</b> <p><p>\n",
    "1. Introduction to Data Analysis and Python Libraries <p><p> \n",
    "2. NumPy Basics <p>\n",
    "3. Introduction to Pandas for Data Manipulation <p>\n",
    "4. Data Manipulation with Pandas <p>\n",
    "5. Advanced Pandas: Merging and Joining DataFrames   \n",
    "</h4> </div>"
   ]
  },
  {
   "cell_type": "markdown",
   "id": "53ec8637",
   "metadata": {},
   "source": [
    "<div style=\"background-color: lightgreen; color: black; padding: 4px;\">\n",
    "    <h4>1. Introduction to Data Analysis and Python Libraries \n",
    "</h4> </div>"
   ]
  },
  {
   "cell_type": "markdown",
   "id": "90aef031-1416-4707-b2a0-fc60ca4ee7ca",
   "metadata": {},
   "source": [
    "## Overview of Data Analysis\n",
    "Data analysis is the process of inspecting, cleansing, transforming, and modeling data to discover useful information, inform conclusions, and support decision-making. It is important because:\n",
    "\n",
    "- **Informed Decision Making**: Data analysis helps organizations make informed decisions by providing actionable insights.\n",
    "- **Identifying Trends and Patterns**: Analyzing data can uncover trends and patterns that can lead to new opportunities or help mitigate risks.\n",
    "- **Performance Improvement**: By understanding data, organizations can optimize processes and improve overall performance.\n",
    "- **Cost Reduction**: Effective data analysis can lead to cost savings by identifying inefficiencies.\n",
    "- **Competitive Advantage**: Companies that leverage data effectively can gain a competitive edge in the market.\n"
   ]
  },
  {
   "cell_type": "markdown",
   "id": "1c762cd6-ee35-4e4e-aa54-600db6a9c23d",
   "metadata": {},
   "source": [
    "<div style=\"background-color: lightblue; color: black; padding: 4px;\">\n",
    "    <h4>Python Libraries\n",
    "</h4> </div>"
   ]
  },
  {
   "cell_type": "markdown",
   "id": "affb2e43-d552-4f52-b5e7-c4d8af63b29e",
   "metadata": {},
   "source": [
    "In Python, a library is a collection of modules and packages that provide pre-written code to perform common tasks. Libraries allow developers to reuse code, streamline their workflows, and leverage existing functionality without having to reinvent the wheel. This makes programming faster, easier, and more efficient.\n",
    "\n",
    "### Why Use Python Libraries?\n",
    "\n",
    "1. **Code Reusability**: Libraries contain reusable code, which means you can use existing functions and classes instead of writing your own from scratch. This saves time and reduces errors.\n",
    "\n",
    "2. **Simplified Development**: Libraries offer pre-built solutions to complex problems, making it easier for developers to implement functionalities without delving into the underlying details.\n",
    "\n",
    "3. **Community Support**: Popular libraries are often well-documented and maintained by a community of developers. This support makes it easier to learn and troubleshoot issues.\n",
    "\n",
    "4. **Enhanced Functionality**: Libraries expand Python's capabilities, allowing you to perform a wide range of tasks, from data analysis to web development and machine learning.\n",
    "\n",
    "5. **Focus on Higher-Level Concepts**: By using libraries, developers can focus on high-level application logic rather than low-level implementation details."
   ]
  },
  {
   "cell_type": "markdown",
   "id": "10a27b2a-0370-43aa-b972-7cc31b88203d",
   "metadata": {},
   "source": [
    "<div style=\"background-color: lightblue; color: black; padding: 4px;\">\n",
    "    <h4>Common Python Libraries\n",
    "</h4> </div>"
   ]
  },
  {
   "cell_type": "markdown",
   "id": "50dded67-68ef-4c04-b0ce-d3885982273e",
   "metadata": {},
   "source": [
    "### 1. **NumPy**\n",
    "- **Purpose**: Provides support for numerical computations and handling multi-dimensional arrays.\n",
    "- **Applications**: Used in scientific computing, data analysis, and machine learning.\n",
    "\n",
    "### 2. **Pandas**\n",
    "- **Purpose**: Offers data structures like Series and DataFrame for data manipulation and analysis.\n",
    "- **Applications**: Ideal for data cleaning, transformation, and exploratory data analysis.\n",
    "\n",
    "### 3. **Matplotlib**\n",
    "- **Purpose**: A plotting library for creating static, animated, and interactive visualizations in Python.\n",
    "- **Applications**: Used for data visualization and creating informative graphs and charts.\n",
    "\n",
    "### 4. **Scikit-learn**\n",
    "- **Purpose**: A machine learning library that provides simple and efficient tools for data mining and data analysis.\n",
    "- **Applications**: Used for building predictive models, classification, regression, and clustering.\n",
    "\n",
    "### 5. **TensorFlow and PyTorch**\n",
    "- **Purpose**: Libraries for building and training neural networks and deep learning models.\n",
    "- **Applications**: Widely used in machine learning and artificial intelligence projects.\n",
    "\n",
    "### 6. **Flask and Django**\n",
    "- **Purpose**: Web development frameworks for building web applications in Python.\n",
    "- **Applications**: Flask is lightweight for smaller applications, while Django is a robust framework for larger, more complex projects.\n",
    "\n",
    "## How to Install Python Libraries\n",
    "\n",
    "Python libraries can be easily installed using `pip`, the package installer for Python. For example, to install NumPy and Pandas, you can run the following command in your terminal:\n",
    "\n",
    "```bash\n",
    "pip install numpy pandas\n"
   ]
  },
  {
   "cell_type": "markdown",
   "id": "4d943e0f-4109-4344-aee4-242cf68e71c4",
   "metadata": {},
   "source": [
    "<div style=\"background-color: lightblue; color: black; padding: 4px;\">\n",
    "    <h4> Introduction to NumPy and Pandas\n",
    "</h4> </div>"
   ]
  },
  {
   "cell_type": "markdown",
   "id": "8fda6db2-8ca5-4481-a1c9-04731915c034",
   "metadata": {},
   "source": [
    "### NumPy\n",
    "- **Purpose**: NumPy (Numerical Python) is a library used for numerical computations. It provides support for arrays, matrices, and a variety of mathematical functions to operate on these data structures.\n",
    "- **Applications**: It is widely used in scientific computing, data analysis, and machine learning due to its efficiency and ease of use.\n",
    "\n",
    "### Pandas\n",
    "- **Purpose**: Pandas is a library designed for data manipulation and analysis. It provides data structures such as Series and DataFrames, which are efficient for handling structured data.\n",
    "- **Applications**: It is particularly useful for data cleaning, transformation, and analysis, making it a cornerstone for data analysis in Python.\n",
    "\n",
    "## Installing and Setting Up the Libraries\n",
    "To start using NumPy and Pandas, you need to install them. This can be easily done using pip, the package installer for Python. Here’s how to install them:\n",
    "\n",
    "### Step 1: Open your command line or terminal.\n",
    "\n",
    "### Step 2: Install NumPy and Pandas using pip:\n",
    "```bash\n",
    "pip install numpy pandas\n"
   ]
  },
  {
   "cell_type": "code",
   "execution_count": 38,
   "id": "3ca59720-10c6-4977-a885-9b3b907f1f2b",
   "metadata": {},
   "outputs": [
    {
     "name": "stdout",
     "output_type": "stream",
     "text": [
      "NumPy version: 1.26.4\n",
      "Pandas version: 2.2.2\n"
     ]
    }
   ],
   "source": [
    "# Importing the libraries\n",
    "import numpy as np\n",
    "import pandas as pd\n",
    "\n",
    "# Check the versions to confirm installation\n",
    "print(\"NumPy version:\", np.__version__)  # Output the version of NumPy\n",
    "print(\"Pandas version:\", pd.__version__)  # Output the version of Pandas\n"
   ]
  },
  {
   "cell_type": "markdown",
   "id": "a3b10a45",
   "metadata": {},
   "source": [
    "<div style=\"background-color: lightgreen; color: black; padding: 4px;\">\n",
    "    <h4>2. NumPy Basics \n",
    "</h4> </div>"
   ]
  },
  {
   "cell_type": "code",
   "execution_count": null,
   "id": "8dbd0cda-c4fe-4fd8-9a83-f2a53a61947d",
   "metadata": {},
   "outputs": [],
   "source": []
  },
  {
   "cell_type": "markdown",
   "id": "ecac77f6",
   "metadata": {},
   "source": [
    "<div style=\"background-color: lightgreen; color: black; padding: 4px;\">\n",
    "    <h4>3. Introduction to Pandas\n",
    "</h4> </div>"
   ]
  },
  {
   "cell_type": "code",
   "execution_count": null,
   "id": "f17fc4cc-ffa4-44b0-90a1-fb69ff2f4a82",
   "metadata": {},
   "outputs": [],
   "source": []
  },
  {
   "cell_type": "markdown",
   "id": "46a5f795",
   "metadata": {},
   "source": [
    "<div style=\"background-color: lightgreen; color: black; padding: 4px;\">\n",
    "    <h4>4. Data Manipulation with Pandas \n",
    "</h4> </div>"
   ]
  },
  {
   "cell_type": "code",
   "execution_count": null,
   "id": "d58244c1-f2cf-4493-a788-f116f659e087",
   "metadata": {},
   "outputs": [],
   "source": []
  },
  {
   "cell_type": "markdown",
   "id": "50f921c5",
   "metadata": {},
   "source": [
    "<div style=\"background-color: lightgreen; color: black; padding: 4px;\">\n",
    "    <h4>5. Advanced Pandas: Merging and Joining DataFrames \n",
    "</h4> </div>"
   ]
  },
  {
   "cell_type": "code",
   "execution_count": null,
   "id": "d20e83b3-f5e2-4e05-be51-933476292bbd",
   "metadata": {},
   "outputs": [],
   "source": []
  },
  {
   "cell_type": "markdown",
   "id": "b69ed7ea-1940-434d-bb2d-601d07994783",
   "metadata": {},
   "source": [
    "<div style=\"background-color: lightblue; color: white; padding: 10px; text-align: center;\">\n",
    "    <h1>_________________________________END________________________________\n",
    "</h1> </div>"
   ]
  },
  {
   "cell_type": "markdown",
   "id": "01ede1e3-7668-4ca3-bb69-64344a1e070b",
   "metadata": {},
   "source": [
    "<div class=\"alert alert-block alert-warning\">\n",
    "    <b><font size=\"5\"> Live Exercise</font> </b>\n",
    "</div>"
   ]
  },
  {
   "cell_type": "markdown",
   "id": "8bc1cea8-d999-464a-9ed1-d760c38a57fb",
   "metadata": {},
   "source": [
    "Now it's your turn!\n",
    "### Task 1: Simple Voting Eligibility Check\n",
    "- Task: Write a program that checks if a user is eligible to vote.\n",
    "\n",
    "- Instructions:\n",
    "\n",
    "    - Ask the user for their age and use a conditional statement to check if they are at least 18 years old.\n",
    "    - Print a message indicating whether they are eligible to vote or not.\n",
    "\n",
    "### Task 2: Create a simple calculator\n",
    "- Task: Create a simple calculator that performs basic arithmetic operations.\n",
    "\n",
    "- Instructions:\n",
    "    - Prompt the user for two numbers and an operation (addition, subtraction, multiplication, or division).\n",
    "    - Use conditional statements to perform the requested operation and display the result.\n",
    "\n"
   ]
  },
  {
   "cell_type": "markdown",
   "id": "13e86481-eae2-4019-9515-66a43a30f0fb",
   "metadata": {},
   "source": [
    "<div style=\"background-color: #002147; color: #fff; padding: 30px; text-align: center;\">\n",
    "    <h1>THANK YOU!\n",
    "</h1> </div>"
   ]
  },
  {
   "cell_type": "markdown",
   "id": "eabe4e17-193c-4895-b4a3-b71f577ac7e1",
   "metadata": {},
   "source": [
    "<div class=\"alert alert-block alert-warning\"  padding: 10px; text-align: center;\">\n",
    "    <font size=\"3\"> Programming Questions</font>\n",
    "</div>"
   ]
  },
  {
   "cell_type": "markdown",
   "id": "71beb3fb-e8c2-4063-bda5-844fae4212fb",
   "metadata": {},
   "source": [
    "1. Find the Maximum and Minimum of a List\n",
    "    - Question: Given a list of numbers, find the maximum and minimum values.\n",
    "\n",
    "2. Check for Prime Number\n",
    "    - Question: Write a function to check if a given number is a prime number.\n",
    "    \n",
    "3. Factorial of a Number\n",
    "    - Question: Compute the factorial of a given number using recursion.\n",
    "    \n",
    "4. Fibonacci Sequence\n",
    "    - Question: Generate the Fibonacci sequence up to a given number of terms.\n",
    "    \n",
    "5. Sum of Digits\n",
    "    - Question: Write a function to calculate the sum of digits of a given integer.\n",
    "\n",
    "6. Convert Decimal to Binary\n",
    "    - Question: Convert a decimal number to its binary representation.\n",
    "        \n",
    "7. Greatest Common Divisor (GCD)\n",
    "    - Question: Compute the greatest common divisor of two numbers using Euclid’s algorithm.\n",
    "        \n",
    "8. Find the Second Largest Number in a List\n",
    "    - Question: Given a list of numbers, find the second largest number.\n",
    "        \n",
    "9. Count the Number of Digits in a Number\n",
    "     - Question: Count the number of digits in a given integer.\n",
    "        \n",
    "10. Check if a Number is a Power of Two\n",
    "    - Question: Determine if a given number is a power of two."
   ]
  }
 ],
 "metadata": {
  "kernelspec": {
   "display_name": "Python 3 (ipykernel)",
   "language": "python",
   "name": "python3"
  },
  "language_info": {
   "codemirror_mode": {
    "name": "ipython",
    "version": 3
   },
   "file_extension": ".py",
   "mimetype": "text/x-python",
   "name": "python",
   "nbconvert_exporter": "python",
   "pygments_lexer": "ipython3",
   "version": "3.12.4"
  }
 },
 "nbformat": 4,
 "nbformat_minor": 5
}
