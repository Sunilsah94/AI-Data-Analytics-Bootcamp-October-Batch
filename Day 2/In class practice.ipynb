{
 "cells": [
  {
   "cell_type": "markdown",
   "id": "810eae0a-dc8f-4abe-9eec-92126bf3d0f1",
   "metadata": {},
   "source": [
    "programing -> instructing a computer/machine\n",
    "\n",
    "set of instructions"
   ]
  },
  {
   "cell_type": "code",
   "execution_count": null,
   "id": "0946131a-63c8-4404-a523-890eaa0e8a12",
   "metadata": {},
   "outputs": [],
   "source": [
    "algorithm -> a series of steps\n",
    "\n",
    "Task -> make a cup of tea\n",
    "\n",
    "1. gather ingredients \n",
    "2. utensil, put on stove\n",
    "3. turn on the stove\n",
    "4. fill it with right amount of water\n",
    "5. wait untill it start boiling\n",
    "6. put in tea\n",
    "7. wait for two minutes\n",
    "8. add sugar and milk \n"
   ]
  },
  {
   "cell_type": "markdown",
   "id": "657d9d2d-c6e1-458b-9049-e61561b19468",
   "metadata": {},
   "source": [
    "task / solve a problem / \n",
    "\n",
    "machine code (100110101101010101101)\n",
    "\n",
    "- set of instruction (algorithm) -> programing language -> machine code\n",
    "\n",
    "- programing language compiler/interpreter\n",
    "\n",
    "CS \n",
    "\n",
    "- C language, C++ , Java, Python\n",
    "\n",
    "- \n"
   ]
  },
  {
   "cell_type": "code",
   "execution_count": null,
   "id": "5f07927c-ca6f-42c6-a2f2-2b18cf47c8b0",
   "metadata": {},
   "outputs": [],
   "source": [
    "interpret "
   ]
  },
  {
   "cell_type": "code",
   "execution_count": 17,
   "id": "65923a93-2155-4228-b8dd-e88840d0a1a2",
   "metadata": {},
   "outputs": [
    {
     "name": "stdout",
     "output_type": "stream",
     "text": [
      "sunil will appear\n"
     ]
    }
   ],
   "source": [
    "print(\"sunil will appear\")"
   ]
  },
  {
   "cell_type": "code",
   "execution_count": 19,
   "id": "fc02239e-2409-4581-8e97-377028ef4f90",
   "metadata": {},
   "outputs": [
    {
     "ename": "NameError",
     "evalue": "name 'printf' is not defined",
     "output_type": "error",
     "traceback": [
      "\u001b[1;31m---------------------------------------------------------------------------\u001b[0m",
      "\u001b[1;31mNameError\u001b[0m                                 Traceback (most recent call last)",
      "Cell \u001b[1;32mIn[19], line 1\u001b[0m\n\u001b[1;32m----> 1\u001b[0m printf(\u001b[38;5;124m\"\u001b[39m\u001b[38;5;124mthis is c\u001b[39m\u001b[38;5;124m\"\u001b[39m)\n",
      "\u001b[1;31mNameError\u001b[0m: name 'printf' is not defined"
     ]
    }
   ],
   "source": [
    "printf(\"this is c\"); # this is a c lanugue instruction"
   ]
  },
  {
   "cell_type": "code",
   "execution_count": null,
   "id": "1863007c-b034-412b-bc78-769cebfa8ebd",
   "metadata": {},
   "outputs": [],
   "source": [
    "# this is how we do things in C\n",
    "\n",
    "void main(){\n",
    "    \n",
    "a = 10;\n",
    "printf(\"Hello world! %d\", a);\n",
    "\n",
    "    \n",
    "}\n",
    "\n"
   ]
  },
  {
   "cell_type": "code",
   "execution_count": 23,
   "id": "232090f9-a77f-43bc-8bb4-cce19a4b87dd",
   "metadata": {},
   "outputs": [
    {
     "name": "stdout",
     "output_type": "stream",
     "text": [
      "Hello world!\n"
     ]
    }
   ],
   "source": [
    "print(\"Hello world!\") "
   ]
  },
  {
   "cell_type": "code",
   "execution_count": null,
   "id": "cea65f95-5b2b-447a-bb76-86ef74f23b49",
   "metadata": {},
   "outputs": [],
   "source": [
    "# varaibles are container that hold data\n",
    "\n"
   ]
  },
  {
   "cell_type": "code",
   "execution_count": 27,
   "id": "68f94ca9-09ab-41dc-b233-e92bfd9d3e99",
   "metadata": {},
   "outputs": [
    {
     "data": {
      "text/plain": [
       "22"
      ]
     },
     "execution_count": 27,
     "metadata": {},
     "output_type": "execute_result"
    }
   ],
   "source": [
    "10 + 12"
   ]
  },
  {
   "cell_type": "code",
   "execution_count": 38,
   "id": "e95a5cf9-c415-4a7b-947c-749e57294962",
   "metadata": {},
   "outputs": [],
   "source": [
    "a = 10 # asssigning value to a variable\n",
    "b = 20\n",
    "c = a + b"
   ]
  },
  {
   "cell_type": "code",
   "execution_count": 40,
   "id": "69bcfe9a-43cf-4d84-be66-93af689b83ba",
   "metadata": {},
   "outputs": [
    {
     "name": "stdout",
     "output_type": "stream",
     "text": [
      "a is 10, b is 20 and their sum is 30\n"
     ]
    }
   ],
   "source": [
    "print(\"a is %d, b is %d and their sum is %d\"%(a,b,c) ) # display integers %d"
   ]
  },
  {
   "cell_type": "code",
   "execution_count": 44,
   "id": "5e541868-59c9-4f98-9253-2e296e4bc034",
   "metadata": {},
   "outputs": [
    {
     "name": "stdout",
     "output_type": "stream",
     "text": [
      "a is 30 , b is 20 and their sum is 10\n"
     ]
    }
   ],
   "source": [
    "print(\"a is {} , b is {} and their sum is {}\".format(a,b,c) )"
   ]
  },
  {
   "cell_type": "markdown",
   "id": "5e556d06-4bfa-4ba8-80b6-9d2bad90105c",
   "metadata": {},
   "source": [
    "python understands the following types of data:\n",
    "\n",
    "int 3 4 5 6 67\n",
    "\n",
    "float 3.14 5.7  6776.6767 \n",
    "\n",
    "str string - \"hellowwww\"\n",
    "\n",
    "\n"
   ]
  },
  {
   "cell_type": "code",
   "execution_count": 64,
   "id": "361becd5-f7ef-4574-b70d-3bdde2773f53",
   "metadata": {},
   "outputs": [
    {
     "name": "stdout",
     "output_type": "stream",
     "text": [
      "anogdnaor geonargierao enasgonar goaefinavoasngvrnasongvr grioahsgirhg \n",
      "f oanfeoahfeoiajfioeajoifheoiasjifea fahfeoahfoaisjfhaeie\n",
      "aeofhaoiefhaioefjioajfehaohfeiahf\n",
      "efaohfeioaofehiaoheohaef\n",
      "Lists: Ordered, mutable collections of items, which can be of mixed types.\n",
      "\n",
      "Tuples: Ordered, immutable collections of items.\n",
      "\n",
      "Dictionaries: Unordered collections of key-value pairs.\n",
      "\n",
      "Sets: Unordered collections of unique items.\n",
      "\n",
      "None: Represents the absence of a value or a null value.\n",
      "\n",
      "Each data type serves different purposes and has different methods associated with it. For example, lists and dictionaries have methods to modify their content, while tuples and strings do not.\n",
      "\n"
     ]
    }
   ],
   "source": [
    "print(\"\"\"anogdnaor geonargierao enasgonar goaefinavoasngvrnasongvr grioahsgirhg \n",
    "f oanfeoahfeoiajfioeajoifheoiasjifea fahfeoahfoaisjfhaeie\n",
    "aeofhaoiefhaioefjioajfehaohfeiahf\n",
    "efaohfeioaofehiaoheohaef\n",
    "Lists: Ordered, mutable collections of items, which can be of mixed types.\n",
    "\n",
    "Tuples: Ordered, immutable collections of items.\n",
    "\n",
    "Dictionaries: Unordered collections of key-value pairs.\n",
    "\n",
    "Sets: Unordered collections of unique items.\n",
    "\n",
    "None: Represents the absence of a value or a null value.\n",
    "\n",
    "Each data type serves different purposes and has different methods associated with it. For example, lists and dictionaries have methods to modify their content, while tuples and strings do not.\n",
    "\"\"\")"
   ]
  },
  {
   "cell_type": "code",
   "execution_count": null,
   "id": "80a0cb05-1e12-454d-82d0-accc90d18117",
   "metadata": {},
   "outputs": [],
   "source": []
  },
  {
   "cell_type": "code",
   "execution_count": null,
   "id": "a521a2c6-926e-4cae-9c16-301f7cf78b50",
   "metadata": {},
   "outputs": [],
   "source": [
    "lists, tuples, dictionary, sets"
   ]
  },
  {
   "cell_type": "code",
   "execution_count": 70,
   "id": "9821f759-19b8-4929-a9c4-f1f2b3d5a2a9",
   "metadata": {},
   "outputs": [
    {
     "data": {
      "text/plain": [
       "1230.0"
      ]
     },
     "execution_count": 70,
     "metadata": {},
     "output_type": "execute_result"
    }
   ],
   "source": [
    "1.23e3"
   ]
  },
  {
   "cell_type": "code",
   "execution_count": 72,
   "id": "c6218bf7-f2bd-4f6f-884f-c527983149f7",
   "metadata": {},
   "outputs": [
    {
     "data": {
      "text/plain": [
       "456644.0"
      ]
     },
     "execution_count": 72,
     "metadata": {},
     "output_type": "execute_result"
    }
   ],
   "source": [
    "45.6644e4 #4566644.0"
   ]
  },
  {
   "cell_type": "code",
   "execution_count": null,
   "id": "87f752dd-a68e-45e9-bef9-0dcdb9a4e5cc",
   "metadata": {},
   "outputs": [],
   "source": [
    "4.56 \n",
    "4.565987\n",
    "\n",
    "how many bits we use in a computer, precision is set \n",
    "\n"
   ]
  },
  {
   "cell_type": "code",
   "execution_count": null,
   "id": "4003b895-d2de-47e8-904b-71fbc05335b8",
   "metadata": {},
   "outputs": [],
   "source": [
    "# setting precision of float numbers\n",
    "formatted = \"{:.2f}\".format(3.14159)  # 3.14\n",
    "formatted"
   ]
  },
  {
   "cell_type": "code",
   "execution_count": 82,
   "id": "14348fcc-476b-452a-81b7-752d70c97c5e",
   "metadata": {},
   "outputs": [
    {
     "data": {
      "text/plain": [
       "'1.235560000'"
      ]
     },
     "execution_count": 82,
     "metadata": {},
     "output_type": "execute_result"
    }
   ],
   "source": [
    "r = \"{:.9f}\".format(1.23556)\n",
    "r"
   ]
  },
  {
   "cell_type": "code",
   "execution_count": 86,
   "id": "b5a3e70c-6013-457b-9289-aa32604f6b9e",
   "metadata": {},
   "outputs": [
    {
     "name": "stdout",
     "output_type": "stream",
     "text": [
      "False\n"
     ]
    },
    {
     "data": {
      "text/plain": [
       "5.4"
      ]
     },
     "execution_count": 86,
     "metadata": {},
     "output_type": "execute_result"
    }
   ],
   "source": [
    "#Typecasting\n",
    "number = 5.4\n",
    "\n",
    "# type(number)\n",
    "print(number.is_integer())  # True\n",
    "number"
   ]
  },
  {
   "cell_type": "code",
   "execution_count": 90,
   "id": "c41c9c64-834b-4e4c-ae00-f20680fcf7d4",
   "metadata": {},
   "outputs": [
    {
     "data": {
      "text/plain": [
       "(1, 2)"
      ]
     },
     "execution_count": 90,
     "metadata": {},
     "output_type": "execute_result"
    }
   ],
   "source": [
    "ratio = (0.5).as_integer_ratio()  # (3, 4)\n",
    "ratio"
   ]
  },
  {
   "cell_type": "code",
   "execution_count": null,
   "id": "76b69aa5-d435-4121-b89e-ff4ed1e4e753",
   "metadata": {},
   "outputs": [],
   "source": [
    "# Integer\n",
    "x = 10\n",
    "print(\"x is of type:\", type(x))\n",
    "\n",
    "# Float\n",
    "y = 3.14\n",
    "print(\"y is of type:\", type(y))\n",
    "\n",
    "# String\n",
    "name = \"John\"\n",
    "print(\"name is of type:\", type(name))\n",
    "\n",
    "# Boolean\n",
    "is_active = True\n",
    "print(\"is_active is of type:\", type(is_active))"
   ]
  },
  {
   "cell_type": "code",
   "execution_count": 96,
   "id": "92c52653-83db-4703-8933-c25e83c5f9ad",
   "metadata": {},
   "outputs": [
    {
     "data": {
      "text/plain": [
       "45"
      ]
     },
     "execution_count": 96,
     "metadata": {},
     "output_type": "execute_result"
    }
   ],
   "source": [
    "MyName = 34 #camel case\n",
    "\n",
    "ThisIsRollNumber = 45\n",
    "\n",
    "MyName\n",
    "ThisIsRollNumber"
   ]
  },
  {
   "cell_type": "code",
   "execution_count": 98,
   "id": "34508179-4a71-4594-b0e4-48681dd48c70",
   "metadata": {},
   "outputs": [
    {
     "data": {
      "text/plain": [
       "34"
      ]
     },
     "execution_count": 98,
     "metadata": {},
     "output_type": "execute_result"
    }
   ],
   "source": [
    "My_Name = 34\n",
    "My_Name"
   ]
  },
  {
   "cell_type": "code",
   "execution_count": 100,
   "id": "30fb0b4f-1daf-4859-9a9b-f73495812147",
   "metadata": {},
   "outputs": [
    {
     "ename": "SyntaxError",
     "evalue": "invalid decimal literal (4004595530.py, line 1)",
     "output_type": "error",
     "traceback": [
      "\u001b[1;36m  Cell \u001b[1;32mIn[100], line 1\u001b[1;36m\u001b[0m\n\u001b[1;33m    1My_Name = 34\u001b[0m\n\u001b[1;37m    ^\u001b[0m\n\u001b[1;31mSyntaxError\u001b[0m\u001b[1;31m:\u001b[0m invalid decimal literal\n"
     ]
    }
   ],
   "source": [
    "1My_Name = 34\n",
    "1My_Name"
   ]
  },
  {
   "cell_type": "code",
   "execution_count": 102,
   "id": "ce7db024-8c81-44b6-a93d-ca62ce14c5dd",
   "metadata": {},
   "outputs": [
    {
     "data": {
      "text/plain": [
       "34"
      ]
     },
     "execution_count": 102,
     "metadata": {},
     "output_type": "execute_result"
    }
   ],
   "source": [
    "My_Name1 = 34\n",
    "My_Name1"
   ]
  },
  {
   "cell_type": "code",
   "execution_count": 120,
   "id": "3b3a4861-8c2c-4365-962f-4ef269cc8159",
   "metadata": {},
   "outputs": [
    {
     "name": "stdout",
     "output_type": "stream",
     "text": [
      "x is of type: <class 'bool'>\n"
     ]
    }
   ],
   "source": [
    "x = False\n",
    "print(\"x is of type:\",type(x))"
   ]
  },
  {
   "cell_type": "code",
   "execution_count": 128,
   "id": "5bd4087b-1086-4384-bb34-b12327159d54",
   "metadata": {},
   "outputs": [
    {
     "name": "stdout",
     "output_type": "stream",
     "text": [
      "the sum is: 8\n",
      "8 8 28 5.0\n"
     ]
    }
   ],
   "source": [
    "sum = 5 + 3         # 8\n",
    "difference = 10 - 2 # 8\n",
    "product = 4 * 7     # 28\n",
    "quotient = 20 / 4   # 5.0 (Note: Division always returns a float)\n",
    "print(\"the sum is:\",sum) # concatenation\n",
    "print(sum,difference,product,quotient)"
   ]
  },
  {
   "cell_type": "code",
   "execution_count": 130,
   "id": "606e0c77-ce6d-4a92-aaca-c7e563d4df9e",
   "metadata": {},
   "outputs": [
    {
     "name": "stdout",
     "output_type": "stream",
     "text": [
      "Converted to int: 5\n"
     ]
    }
   ],
   "source": [
    "num = 5.67\n",
    "num_int = int(num)\n",
    "print(\"Converted to int:\", num_int)"
   ]
  },
  {
   "cell_type": "code",
   "execution_count": 136,
   "id": "a6c499e9-5e21-46ed-98fa-96f7905551f9",
   "metadata": {},
   "outputs": [
    {
     "name": "stdout",
     "output_type": "stream",
     "text": [
      "<class 'int'>\n"
     ]
    }
   ],
   "source": [
    "x = \"90\"\n",
    "y=int(x)\n",
    "print(type(y))"
   ]
  },
  {
   "cell_type": "code",
   "execution_count": 152,
   "id": "644e60a7-7f26-4d6d-b1e2-e298dcdadb3f",
   "metadata": {},
   "outputs": [
    {
     "name": "stdout",
     "output_type": "stream",
     "text": [
      "Division: 3.3333333333333335\n",
      "Floor Division: 3\n",
      "Modulus: 1\n",
      "Exponentiation: 1000\n"
     ]
    }
   ],
   "source": [
    "a = 10\n",
    "b = 3\n",
    "\n",
    "print(\"Division:\", a / b)\n",
    "print(\"Floor Division:\", a // b)\n",
    "print(\"Modulus:\", a % b)\n",
    "print(\"Exponentiation:\", a ** b)\n"
   ]
  },
  {
   "cell_type": "code",
   "execution_count": null,
   "id": "12880878-57ba-4614-8a02-420ff0aba764",
   "metadata": {},
   "outputs": [],
   "source": [
    "if modulus of number/2 is 0\n",
    "number is even"
   ]
  },
  {
   "cell_type": "code",
   "execution_count": 170,
   "id": "1902831e-7e94-4d79-9c3e-b882cec77f8f",
   "metadata": {},
   "outputs": [
    {
     "data": {
      "text/plain": [
       "3"
      ]
     },
     "execution_count": 170,
     "metadata": {},
     "output_type": "execute_result"
    }
   ],
   "source": [
    "bits = (7).bit_length()  # 4 --> 1000 binary 0,1\n",
    "bits"
   ]
  },
  {
   "cell_type": "code",
   "execution_count": null,
   "id": "1ed060da-d795-4ebe-92a5-db91119bb933",
   "metadata": {},
   "outputs": [],
   "source": [
    "binary\n",
    "\n",
    "0 and 1\n",
    "\n",
    "\n",
    "10 -> \n",
    "\n",
    "0 \n",
    "\n",
    "1\n",
    "\n",
    "10\n",
    "\n",
    "11 -> 3\n",
    "\n",
    "111 -> 7\n",
    "\n",
    "\n"
   ]
  },
  {
   "cell_type": "code",
   "execution_count": 190,
   "id": "463fdb31-1eec-4aff-989e-ec78aed58947",
   "metadata": {},
   "outputs": [
    {
     "name": "stdout",
     "output_type": "stream",
     "text": [
      "True\n"
     ]
    }
   ],
   "source": [
    "x = 5\n",
    "y = 10\n",
    "\n",
    "#print( x < 0 and y > 0)\n",
    "print(not(x<0))"
   ]
  },
  {
   "cell_type": "markdown",
   "id": "772a6629-aa9e-4472-9ebb-309841cc7966",
   "metadata": {},
   "source": [
    "and -> both true, then we will get true\n",
    "or -> either of the two should be true\n"
   ]
  },
  {
   "cell_type": "code",
   "execution_count": 192,
   "id": "0c57dbf8-a722-4b2c-aad6-d146e0f083c9",
   "metadata": {},
   "outputs": [
    {
     "name": "stdout",
     "output_type": "stream",
     "text": [
      "55\n"
     ]
    }
   ],
   "source": [
    "a = 10\n",
    "b = 45\n",
    "\n",
    "sum = a+b\n",
    "sub = \n",
    "mul = \n",
    "div = \n",
    "\n",
    "print(sum)"
   ]
  },
  {
   "cell_type": "code",
   "execution_count": null,
   "id": "c2c6068c-7ae2-483d-814c-21d568f04297",
   "metadata": {},
   "outputs": [],
   "source": []
  },
  {
   "cell_type": "code",
   "execution_count": null,
   "id": "cfc13021-d6cb-4d24-8298-998f94ab23e9",
   "metadata": {},
   "outputs": [],
   "source": []
  },
  {
   "cell_type": "code",
   "execution_count": null,
   "id": "ea92ba30-d163-4ed6-bdc5-46d765f590df",
   "metadata": {},
   "outputs": [],
   "source": []
  }
 ],
 "metadata": {
  "kernelspec": {
   "display_name": "Python 3 (ipykernel)",
   "language": "python",
   "name": "python3"
  },
  "language_info": {
   "codemirror_mode": {
    "name": "ipython",
    "version": 3
   },
   "file_extension": ".py",
   "mimetype": "text/x-python",
   "name": "python",
   "nbconvert_exporter": "python",
   "pygments_lexer": "ipython3",
   "version": "3.12.4"
  }
 },
 "nbformat": 4,
 "nbformat_minor": 5
}
